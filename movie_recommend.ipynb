{
  "nbformat": 4,
  "nbformat_minor": 0,
  "metadata": {
    "colab": {
      "name": "movie_recommend.ipynb",
      "provenance": [],
      "collapsed_sections": [
        "fBBHvLGf_0ro",
        "pXRxErAhHyjT"
      ]
    },
    "kernelspec": {
      "name": "python3",
      "display_name": "Python 3"
    }
  },
  "cells": [
    {
      "cell_type": "code",
      "metadata": {
        "id": "IHm27I8VqUL8"
      },
      "source": [
        "!pip install seaborn\n",
        "!pip install lenskit\n",
        "!pip install pandas\n",
        "!pip install pySpark\n",
        "!pip install torch\n",
        "!pip install torchviz"
      ],
      "execution_count": null,
      "outputs": []
    },
    {
      "cell_type": "code",
      "metadata": {
        "id": "N1Zq-CLpspI4"
      },
      "source": [
        "import numpy as np\n",
        "import pandas as pd\n",
        "import matplotlib.pyplot as plt"
      ],
      "execution_count": 1,
      "outputs": []
    },
    {
      "cell_type": "code",
      "metadata": {
        "id": "UIKrD3nCql51"
      },
      "source": [
        "import torch\n",
        "import torch.nn as nn\n",
        "import torch.nn.functional as F\n",
        "from torch.utils.data import Dataset, DataLoader\n",
        "from torch.autograd import Variable"
      ],
      "execution_count": 2,
      "outputs": []
    },
    {
      "cell_type": "code",
      "metadata": {
        "id": "U1Nyg15JsTfe"
      },
      "source": [
        "from keras.models import Model\n",
        "from keras.utils import plot_model\n",
        "from keras.layers import Input, Embedding, merge, Flatten, Dense, Dropout, Dot, Activation, Concatenate, Lambda\n",
        " \n",
        "from keras.optimizers import Adam\n",
        "from keras.regularizers import l2\n",
        "from keras import backend as K\n",
        "\n",
        "from lenskit import batch, util\n",
        "from lenskit import crossfold as xf\n",
        "from lenskit.algorithms import funksvd\n",
        "from lenskit.metrics.predict import rmse\n",
        "\n",
        "from pyspark.sql import SparkSession\n",
        "from pyspark.sql import Row\n",
        "from pyspark.sql.types import StructField, StructType, StringType, LongType\n"
      ],
      "execution_count": 3,
      "outputs": []
    },
    {
      "cell_type": "code",
      "metadata": {
        "colab": {
          "base_uri": "https://localhost:8080/"
        },
        "id": "gtOU3qCMstHI",
        "outputId": "23248249-105d-47bc-da4f-11a5ed746e3b"
      },
      "source": [
        "!git clone https://github.com/HaykInanc/move_data.git \n",
        "\n",
        "ratings = pd.read_csv('/content/move_data/ratings.csv') #ПользовательId-фильмId-рейтинг\n",
        "movies = pd.read_csv('/content/move_data/movies.csv') #ФильмId-название-жанры"
      ],
      "execution_count": 4,
      "outputs": [
        {
          "output_type": "stream",
          "text": [
            "fatal: destination path 'move_data' already exists and is not an empty directory.\n"
          ],
          "name": "stdout"
        }
      ]
    },
    {
      "cell_type": "code",
      "metadata": {
        "id": "VRhagmtHyIlK"
      },
      "source": [
        "n_users  = ratings.userId.nunique() #Число уникальных пользователей\n",
        "n_movies = ratings.movieId.nunique() #Число уникальных фильмов"
      ],
      "execution_count": 5,
      "outputs": []
    },
    {
      "cell_type": "code",
      "metadata": {
        "id": "2ycK7q28yKAu"
      },
      "source": [
        "#Функция для смены userId и movieId в базовых таблицах на последовательные, начинающиеся с 0.\n",
        "#\n",
        "def data_preparation(movies, ratings):\n",
        "  \n",
        "    uniq_users = ratings.userId.unique()\n",
        "    uniq_movies = ratings.movieId.unique()\n",
        "\n",
        "    #Таблица movie избыточна, удалим далее неоцененные фильмы\n",
        "    id_rated_films = uniq_movies\n",
        "    id_not_rated_films = [x for x in movies['movieId'] if x not in id_rated_films]\n",
        "\n",
        "    if len(id_not_rated_films) !=0:\n",
        "        id_fields_not_rated_films_in_movie = [movies[movies['movieId'] == i].index[0] for i in id_not_rated_films]\n",
        "        movies = movies.drop(id_fields_not_rated_films_in_movie)\n",
        "\n",
        "    #Словари соответствия старого индекса новому\n",
        "    useridtoidx = {o:i for i,o in enumerate(uniq_users)} \n",
        "    movieidtoidx= {o:i for i,o in enumerate(uniq_movies)}\n",
        "\n",
        "    ratings.userId = ratings.userId.apply(lambda x:useridtoidx[x])\n",
        "    ratings.movieId = ratings.movieId.apply(lambda x:movieidtoidx[x])\n",
        "    movies.movieId = movies.movieId.apply(lambda x:movieidtoidx[x])\n",
        "\n",
        "    movie_names = movies.set_index('movieId')['title'].to_dict()\n",
        "\n",
        "    return movies, ratings, movie_names\n",
        " "
      ],
      "execution_count": 6,
      "outputs": []
    },
    {
      "cell_type": "code",
      "metadata": {
        "id": "mAYu9GdKz3wk"
      },
      "source": [
        "#print(\"Было: \\n\", ratings.head())\n",
        "movies, ratings, movie_names = data_preparation(movies, ratings)\n",
        "#print(\"Стало: \\n\", ratings.head())\n",
        "#print(movies.head())\n",
        "ratings = ratings.rename(columns={'userId': 'user', 'movieId': 'movie'})\n",
        "ratings = ratings.rename(columns={'movieId': 'movie'})"
      ],
      "execution_count": 7,
      "outputs": []
    },
    {
      "cell_type": "code",
      "metadata": {
        "id": "J72cCtvI0LxR"
      },
      "source": [
        "#Разделение на тренировочную и обучающую выборку\n",
        "data = []\n",
        "\n",
        "for train, test in xf.partition_users(ratings, 1, xf.SampleFrac(0.2)):\n",
        "    data.append(train)\n",
        "    data.append(test)"
      ],
      "execution_count": 8,
      "outputs": []
    },
    {
      "cell_type": "code",
      "metadata": {
        "id": "mDHTi3TJMByA"
      },
      "source": [
        ""
      ],
      "execution_count": 8,
      "outputs": []
    },
    {
      "cell_type": "markdown",
      "metadata": {
        "id": "fBBHvLGf_0ro"
      },
      "source": [
        "# Keras"
      ]
    },
    {
      "cell_type": "code",
      "metadata": {
        "id": "T5dYQGY9Ca3j"
      },
      "source": [
        "X_train_k = [data[0]['user'].values, data[0]['movie'].values]\n",
        "Y_train_k = data[0]['rating'].values\n",
        "\n",
        "X_test_k = [data[1]['user'].values, data[1]['movie'].values]\n",
        "Y_test_k = data[1]['rating'].values"
      ],
      "execution_count": 9,
      "outputs": []
    },
    {
      "cell_type": "code",
      "metadata": {
        "id": "RPoGIGyY__Ux"
      },
      "source": [
        "n_users  = ratings.user.max()+1\n",
        "n_movies = ratings.movie.max()+1\n",
        "\n",
        "n_hid_layer = 50 #размерность в embed"
      ],
      "execution_count": 10,
      "outputs": []
    },
    {
      "cell_type": "code",
      "metadata": {
        "id": "3hf1e3e3_-8x"
      },
      "source": [
        "#Функция ошибки \n",
        "def my_RMSE(y_true, y_pred):\n",
        "        return K.sqrt(K.mean(K.square(y_pred - y_true), axis=-1))"
      ],
      "execution_count": 11,
      "outputs": []
    },
    {
      "cell_type": "code",
      "metadata": {
        "id": "2aL_VrVIAn8E"
      },
      "source": [
        "def model_rec_system(n_users, n_movies, n_hid_layer):\n",
        "    user = Input(shape=(1,))\n",
        "    l_user = Embedding(n_users, n_hid_layer, embeddings_initializer='he_normal',\n",
        "                  embeddings_regularizer=l2(1e-6))(user)\n",
        "    l_user = Flatten()(l_user)\n",
        "\n",
        "    movie = Input(shape=(1,))\n",
        "    l_movie = Embedding(n_movies, n_hid_layer, embeddings_initializer='he_normal',\n",
        "                  embeddings_regularizer=l2(1e-6))(movie)\n",
        "    l_movie = Flatten()(l_movie)\n",
        "\n",
        "    x = Dot(axes=1)([l_user, l_movie])\n",
        "    x = Dropout(0.05)(x)\n",
        "    x = Dense(10, kernel_initializer='he_normal')(x)\n",
        "    x = Activation('relu')(x)\n",
        "    x = Dropout(0.5)(x)\n",
        "    x = Dense(1, kernel_initializer='he_normal')(x)\n",
        "    x = Activation('sigmoid')(x)\n",
        "\n",
        "    x = Lambda(lambda x: x * (max_rating - min_rating) + min_rating)(x) #масштабирование\n",
        "\n",
        "    model = Model(inputs=[user, movie], outputs=x)\n",
        "    \n",
        "    opt = Adam(lr=0.0001)\n",
        "    model.compile(loss=my_RMSE, optimizer=opt)\n",
        "    return model\n",
        "\n",
        "max_rating = 5 #ограничивающие оценку значения\n",
        "min_rating = 0\n",
        "model_keras = model_rec_system(n_users, n_movies, n_hid_layer)\n",
        "#plot_model(model_keras, to_file='model.png') #Неудобно, очень большая\n"
      ],
      "execution_count": 12,
      "outputs": []
    },
    {
      "cell_type": "code",
      "metadata": {
        "colab": {
          "base_uri": "https://localhost:8080/"
        },
        "id": "99GbYq1MB56o",
        "outputId": "44c52141-2b7a-44cc-9298-4ab8ce83a02c"
      },
      "source": [
        "def train_model(n_epoch = 1):\n",
        "  history = model_keras.fit(x=X_train_k, y=Y_train_k, batch_size=32, epochs=n_epoch, validation_data=(X_test_k, Y_test_k))    \n",
        "  print(\"Mean RMSE:\", np.mean(history.history['val_loss']))\n",
        "  return history\n",
        "\n",
        "history = train_model(10)"
      ],
      "execution_count": 13,
      "outputs": [
        {
          "output_type": "stream",
          "text": [
            "Epoch 1/10\n"
          ],
          "name": "stdout"
        },
        {
          "output_type": "stream",
          "text": [
            "/usr/local/lib/python3.6/dist-packages/tensorflow/python/framework/indexed_slices.py:432: UserWarning: Converting sparse IndexedSlices to a dense Tensor of unknown shape. This may consume a large amount of memory.\n",
            "  \"Converting sparse IndexedSlices to a dense Tensor of unknown shape. \"\n"
          ],
          "name": "stderr"
        },
        {
          "output_type": "stream",
          "text": [
            "2501/2501 [==============================] - 11s 5ms/step - loss: 1.0957 - val_loss: 0.9394\n",
            "Epoch 2/10\n",
            "2501/2501 [==============================] - 12s 5ms/step - loss: 0.9169 - val_loss: 0.8557\n",
            "Epoch 3/10\n",
            "2501/2501 [==============================] - 12s 5ms/step - loss: 0.8628 - val_loss: 0.8534\n",
            "Epoch 4/10\n",
            "2501/2501 [==============================] - 11s 5ms/step - loss: 0.8267 - val_loss: 0.8456\n",
            "Epoch 5/10\n",
            "2501/2501 [==============================] - 12s 5ms/step - loss: 0.7688 - val_loss: 0.8296\n",
            "Epoch 6/10\n",
            "2501/2501 [==============================] - 12s 5ms/step - loss: 0.7015 - val_loss: 0.8084\n",
            "Epoch 7/10\n",
            "2501/2501 [==============================] - 11s 4ms/step - loss: 0.6544 - val_loss: 0.7937\n",
            "Epoch 8/10\n",
            "2501/2501 [==============================] - 11s 4ms/step - loss: 0.6163 - val_loss: 0.7826\n",
            "Epoch 9/10\n",
            "2501/2501 [==============================] - 11s 5ms/step - loss: 0.5890 - val_loss: 0.7759\n",
            "Epoch 10/10\n",
            "2501/2501 [==============================] - 11s 4ms/step - loss: 0.5670 - val_loss: 0.7727\n",
            "Mean RMSE: 0.8257088303565979\n"
          ],
          "name": "stdout"
        }
      ]
    },
    {
      "cell_type": "code",
      "metadata": {
        "colab": {
          "base_uri": "https://localhost:8080/",
          "height": 299
        },
        "id": "x4Xh1FgQCWWf",
        "outputId": "5661cf4f-545d-4136-d8f2-1385dda754c8"
      },
      "source": [
        "x = range(10)\n",
        "plt.plot(x, history.history['loss'], x, history.history['val_loss'])"
      ],
      "execution_count": 14,
      "outputs": [
        {
          "output_type": "execute_result",
          "data": {
            "text/plain": [
              "[<matplotlib.lines.Line2D at 0x7fa38c770940>,\n",
              " <matplotlib.lines.Line2D at 0x7fa38c770a58>]"
            ]
          },
          "metadata": {
            "tags": []
          },
          "execution_count": 14
        },
        {
          "output_type": "display_data",
          "data": {
            "image/png": "[encoded data removed]",
            "text/plain": [
              "<Figure size 432x288 with 1 Axes>"
            ]
          },
          "metadata": {
            "tags": [],
            "needs_background": "light"
          }
        }
      ]
    },
    {
      "cell_type": "markdown",
      "metadata": {
        "id": "pXRxErAhHyjT"
      },
      "source": [
        "# Pytorch\n",
        "\n"
      ]
    },
    {
      "cell_type": "code",
      "metadata": {
        "id": "Ge2oeBhrIUlD"
      },
      "source": [
        "class ReplaysDataSet(Dataset):\n",
        "    def __init__(self, x, y):\n",
        "        self.x_data = x\n",
        "        self.y_data = y\n",
        "        self.length = len(self.y_data)\n",
        "  \n",
        "    def __getitem__(self, index):\n",
        "        return [torch.tensor(self.x_data[0][index].item()), torch.tensor(self.x_data[1][index].item())], self.y_data[index]\n",
        "    def __len__(self):\n",
        "        return self.length"
      ],
      "execution_count": 15,
      "outputs": []
    },
    {
      "cell_type": "code",
      "metadata": {
        "id": "K2FXTZIIWdq2"
      },
      "source": [
        "X_train_p = [torch.tensor(data[0]['user'].values.tolist()), torch.tensor(data[0]['movie'].values.tolist())]\n",
        "Y_train_p = torch.tensor(data[0]['rating'].values.tolist()).view(-1,1)\n",
        "\n",
        "X_test_p = [torch.tensor(data[1]['user'].values.tolist()), torch.tensor(data[1]['movie'].values.tolist())]\n",
        "Y_test_p = torch.tensor(data[1]['rating'].values.tolist()).view(-1,1)"
      ],
      "execution_count": 16,
      "outputs": []
    },
    {
      "cell_type": "code",
      "metadata": {
        "id": "9kZHLVSFIeMG"
      },
      "source": [
        "#разделение на батчи\n",
        "dataset = ReplaysDataSet(X_train_p, Y_train_p)\n",
        "trainLoader = DataLoader(dataset=dataset, batch_size=32, shuffle=True)"
      ],
      "execution_count": 17,
      "outputs": []
    },
    {
      "cell_type": "code",
      "metadata": {
        "id": "nzY-jnwnKbYC"
      },
      "source": [
        "criterion = nn.MSELoss()"
      ],
      "execution_count": 18,
      "outputs": []
    },
    {
      "cell_type": "code",
      "metadata": {
        "id": "66-v9AXZWDbj"
      },
      "source": [
        "class model_rec_system(nn.Module):\n",
        "    def __init__(self, n_users, n_movies):\n",
        "        super().__init__()\n",
        "        n_fich = 50\n",
        "        self.eu = nn.Embedding(n_users, n_fich)\n",
        "       \n",
        "        self.em = nn.Embedding(n_movies, n_fich)\n",
        "\n",
        "        # layer 1 fully connected 150 units\n",
        "        self.lin1 = nn.Linear(n_fich, 10)\n",
        "        \n",
        "        # layer 2 fully connected 50 units # 1\n",
        "        self.lin2 = nn.Linear(10, 1)\n",
        "        \n",
        "        # dropouts\n",
        "        self.drop1 = nn.Dropout(0.6)\n",
        "        self.drop2 = nn.Dropout(0.5)\n",
        "        \n",
        "    def forward(self, data2):\n",
        "        users1 = data2[0]\n",
        "        users1 = torch.flatten(self.eu(users1), 1)\n",
        "\n",
        "        movies2 = data2[1]\n",
        "        movies2 =  torch.flatten(self.em(movies2), 1)\n",
        "\n",
        "        x = torch.mul(users1, movies2)\n",
        "\n",
        "        x = self.drop1(x)\n",
        "        x = self.drop2(F.relu(self.lin1(x)))\n",
        "        \n",
        "        # output\n",
        "        x = torch.sigmoid(self.lin2(x)) * (max_rating-min_rating) + min_rating\n",
        "\n",
        "        return x\n",
        "\n",
        "#ограничивающие оценку значения\n",
        "max_rating = 5 \n",
        "min_rating = 0\n",
        "\n",
        "device = torch.device('cuda') if torch.cuda.is_available()  else torch.device('cpu')\n",
        "model_pytorch = model_rec_system(n_users, n_movies)\n",
        "\n",
        "optimizer = torch.optim.Adam(model_pytorch.parameters(), lr=5e-3, weight_decay=1e-5)"
      ],
      "execution_count": 19,
      "outputs": []
    },
    {
      "cell_type": "code",
      "metadata": {
        "colab": {
          "base_uri": "https://localhost:8080/"
        },
        "id": "_oWF97tCACgt",
        "outputId": "3274c893-d310-4bec-b1c4-5231545df0cb"
      },
      "source": [
        "n_epoch = 10\n",
        "\n",
        "train_losses = []\n",
        "val_losses = []\n",
        "\n",
        "for epoch in range(n_epoch):\n",
        "    totalLoss = 0\n",
        "    totalCorrect = 0\n",
        "    model_pytorch = model_pytorch.train()\n",
        "    \n",
        "    for batch in trainLoader:\n",
        "        x_train, y_train = batch\n",
        "        optimizer.zero_grad()\n",
        "        prediction = model_pytorch(x_train)\n",
        "        loss = torch.sqrt(criterion(prediction, y_train)) #RMSE\n",
        "        totalLoss += loss.item()\n",
        "        loss.backward()\n",
        "        optimizer.step()\n",
        "\n",
        "    totalLoss = totalLoss/len(trainLoader)\n",
        "    train_losses.append(totalLoss)\n",
        "\n",
        "    model_pytorch = model_pytorch.eval()\n",
        "    y_pred = model_pytorch(X_test_p)\n",
        "    \n",
        "    val_loss = torch.sqrt(criterion(y_pred, Y_test_p)).item()\n",
        "    val_losses.append(val_loss)\n",
        "\n",
        "    print('epoch: ', epoch,' loss: ', totalLoss)\n",
        "    print('val_loss: ', val_loss)"
      ],
      "execution_count": 20,
      "outputs": [
        {
          "output_type": "stream",
          "text": [
            "epoch:  0  loss:  1.0479339881927097\n",
            "val_loss:  1.0434297323226929\n",
            "epoch:  1  loss:  1.0105830043470894\n",
            "val_loss:  1.002437949180603\n",
            "epoch:  2  loss:  0.9862638682853885\n",
            "val_loss:  0.9892602562904358\n",
            "epoch:  3  loss:  0.9715122327786453\n",
            "val_loss:  0.9920976758003235\n",
            "epoch:  4  loss:  0.9567521363437199\n",
            "val_loss:  0.974362313747406\n",
            "epoch:  5  loss:  0.9405345419605747\n",
            "val_loss:  0.970072329044342\n",
            "epoch:  6  loss:  0.9242197753476505\n",
            "val_loss:  0.9657882452011108\n",
            "epoch:  7  loss:  0.9085414660115186\n",
            "val_loss:  0.9630289673805237\n",
            "epoch:  8  loss:  0.9004754065776148\n",
            "val_loss:  0.9639484286308289\n",
            "epoch:  9  loss:  0.8939525934635568\n",
            "val_loss:  0.9602826833724976\n"
          ],
          "name": "stdout"
        }
      ]
    },
    {
      "cell_type": "code",
      "metadata": {
        "colab": {
          "base_uri": "https://localhost:8080/",
          "height": 299
        },
        "id": "ZJNSLRiFBMch",
        "outputId": "bb787f3d-dba0-479c-f284-814368bebd9c"
      },
      "source": [
        "x = range(10)\n",
        "plt.plot(x, train_losses, x, val_losses)"
      ],
      "execution_count": 21,
      "outputs": [
        {
          "output_type": "execute_result",
          "data": {
            "text/plain": [
              "[<matplotlib.lines.Line2D at 0x7fa38c011208>,\n",
              " <matplotlib.lines.Line2D at 0x7fa38c011320>]"
            ]
          },
          "metadata": {
            "tags": []
          },
          "execution_count": 21
        },
        {
          "output_type": "display_data",
          "data": {
            "image/png": "[encoded data removed]",
            "text/plain": [
              "<Figure size 432x288 with 1 Axes>"
            ]
          },
          "metadata": {
            "tags": [],
            "needs_background": "light"
          }
        }
      ]
    },
    {
      "cell_type": "code",
      "metadata": {
        "id": "eZwl5SqJCzOl"
      },
      "source": [
        ""
      ],
      "execution_count": 21,
      "outputs": []
    },
    {
      "cell_type": "markdown",
      "metadata": {
        "id": "jryksV1zOBlg"
      },
      "source": [
        "# Результаты"
      ]
    },
    {
      "cell_type": "code",
      "metadata": {
        "id": "hPE9QllUOHq3"
      },
      "source": [
        "# Проверим рекомендации пользователя с id = 3\n",
        "user_id = 3\n",
        "chek_films = [] #Фильмы, которые оценил пользователь\n",
        "\n",
        "for i in range(len(ratings.user)):\n",
        "    if ratings.user[i] == 3:\n",
        "        chek_films.append([ratings.movie[i],ratings.rating[i] ])"
      ],
      "execution_count": 22,
      "outputs": []
    },
    {
      "cell_type": "code",
      "metadata": {
        "colab": {
          "base_uri": "https://localhost:8080/"
        },
        "id": "m8uSQS5mOItm",
        "outputId": "5a91b957-16e4-42b7-9257-a4bf77ae35c3"
      },
      "source": [
        "def keyFunc(item):\n",
        "   return item[1]\n",
        "\n",
        "\n",
        "chek_films.sort(key=keyFunc, reverse = True)\n",
        "\n",
        "for i in chek_films[:10]:\n",
        "  print(movie_names[i[0]], i[1])\n",
        "\n",
        "#Выведен список из первых 5 фильмов, которые пользователь оценил на 5"
      ],
      "execution_count": 23,
      "outputs": [
        {
          "output_type": "stream",
          "text": [
            "Babe (1995) 5.0\n",
            "Rumble in the Bronx (Hont faan kui) (1995) 5.0\n",
            "Birdcage, The (1996) 5.0\n",
            "Star Wars: Episode IV - A New Hope (1977) 5.0\n",
            "Pulp Fiction (1994) 5.0\n",
            "Clear and Present Danger (1994) 5.0\n",
            "Forrest Gump (1994) 5.0\n",
            "Four Weddings and a Funeral (1994) 5.0\n",
            "Lion King, The (1994) 5.0\n",
            "Jurassic Park (1993) 5.0\n"
          ],
          "name": "stdout"
        }
      ]
    },
    {
      "cell_type": "code",
      "metadata": {
        "id": "KqazkERQPCWh"
      },
      "source": [
        "id_chek_films = []\n",
        "for i in chek_films:\n",
        "  id_chek_films.append(i)"
      ],
      "execution_count": 34,
      "outputs": []
    },
    {
      "cell_type": "code",
      "metadata": {
        "id": "VirTMN2IPFcM"
      },
      "source": [
        "not_chek_films = [x for x in range(n_movies) if x not in id_chek_films]"
      ],
      "execution_count": 35,
      "outputs": []
    },
    {
      "cell_type": "code",
      "metadata": {
        "id": "v3Yk0UhcQPKY"
      },
      "source": [
        "#Выведем топ-5 фильмов из первой сотни, которые, согласно моделям, больше всего понравятся пользователю 3 "
      ],
      "execution_count": 36,
      "outputs": []
    },
    {
      "cell_type": "code",
      "metadata": {
        "id": "0BMx-wBeRBC9"
      },
      "source": [
        "def top_n_keras_model(n_films):\n",
        "  pred_films = []\n",
        "  for i in not_chek_films[:100]:   #Проверим первые 100 фильмов\n",
        "    p = model_keras.predict([np.array([1]), np.array([i])])\n",
        "    pred_films.append([i, p[0][0]])\n",
        "\n",
        "  pred_films.sort(key=keyFunc, reverse = True)\n",
        "\n",
        "  for i in pred_films[:n_films]:\n",
        "    print(movie_names[i[0]], i[1])\n",
        "\n",
        "\n",
        "def top_n_pytorch_model(n_films):\n",
        "  pred_films = []\n",
        "  for i in not_chek_films[:100]:   #Проверим первые 100 фильмов\n",
        "    p = model_pytorch([torch.tensor([1]), torch.tensor([i])])\n",
        "    pred_films.append([i, p[0][0].item()])\n",
        "\n",
        "  pred_films.sort(key=keyFunc, reverse = True)\n",
        "\n",
        "  for i in pred_films[:n_films]:\n",
        "    print(movie_names[i[0]], i[1])\n"
      ],
      "execution_count": 37,
      "outputs": []
    },
    {
      "cell_type": "code",
      "metadata": {
        "colab": {
          "base_uri": "https://localhost:8080/"
        },
        "id": "kqsqL7f4Ttc8",
        "outputId": "175f488b-8df5-4ede-b78f-2824a8fa66bb"
      },
      "source": [
        "top_n_keras_model(10)"
      ],
      "execution_count": 38,
      "outputs": [
        {
          "output_type": "stream",
          "text": [
            "Shawshank Redemption, The (1994) 4.122558\n",
            "Pulp Fiction (1994) 4.0831037\n",
            "Usual Suspects, The (1995) 4.0636973\n",
            "Remains of the Day, The (1993) 4.0234385\n",
            "Brady Bunch Movie, The (1995) 4.0219955\n",
            "Like Water for Chocolate (Como agua para chocolate) (1992) 4.0196137\n",
            "Dances with Wolves (1990) 4.0054173\n",
            "Tron (1982) 3.9941895\n",
            "Circle of Friends (1995) 3.9926534\n",
            "Schindler's List (1993) 3.987667\n"
          ],
          "name": "stdout"
        }
      ]
    },
    {
      "cell_type": "code",
      "metadata": {
        "colab": {
          "base_uri": "https://localhost:8080/"
        },
        "id": "MO8NlJ0YUEPB",
        "outputId": "3ddd5f97-a9af-4d27-b8a7-ee6e8df6a399"
      },
      "source": [
        "top_n_pytorch_model(10)"
      ],
      "execution_count": 39,
      "outputs": [
        {
          "output_type": "stream",
          "text": [
            "Apollo 13 (1995) 4.504985332489014\n",
            "Schindler's List (1993) 4.301494598388672\n",
            "Silence of the Lambs, The (1991) 4.207151889801025\n",
            "Batman (1989) 4.197833061218262\n",
            "Shawshank Redemption, The (1994) 4.1825971603393555\n",
            "Like Water for Chocolate (Como agua para chocolate) (1992) 4.124320030212402\n",
            "Terminator 2: Judgment Day (1991) 4.117629051208496\n",
            "Little Women (1994) 4.103888988494873\n",
            "Dances with Wolves (1990) 4.072399139404297\n",
            "Remains of the Day, The (1993) 4.025836944580078\n"
          ],
          "name": "stdout"
        }
      ]
    },
    {
      "cell_type": "code",
      "metadata": {
        "id": "QJPy2Ma6Up9T"
      },
      "source": [
        ""
      ],
      "execution_count": 30,
      "outputs": []
    }
  ]
}